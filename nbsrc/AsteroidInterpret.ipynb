{
 "cells": [
  {
   "cell_type": "markdown",
   "metadata": {},
   "source": [
    "# Interpret Explaination\n",
    "## for a blackbox, glassbox model to classify hazardous and not hazardous asteroids and the overall explaination"
   ]
  },
  {
   "cell_type": "markdown",
   "metadata": {},
   "source": [
    "Import basic libraries which are used for the learning and setting the names for the features and classes which are used to display the data"
   ]
  },
  {
   "cell_type": "code",
   "execution_count": 1,
   "metadata": {},
   "outputs": [],
   "source": [
    "import pandas as pd\n",
    "import numpy as np\n",
    "import datetime as dt\n",
    "from sklearn import preprocessing"
   ]
  },
  {
   "cell_type": "code",
   "execution_count": 2,
   "metadata": {},
   "outputs": [],
   "source": [
    "feature_names = [\"Neo Reference ID\",\"Name\",\"Absolute Magnitude\",\"Est Dia in KM(min)\",\"Est Dia in KM(max)\",\"Est Dia in M(min)\",\"Est Dia in M(max)\",\"Est Dia in Miles(min)\",\"Est Dia in Miles(max)\",\"Est Dia in Feet(min)\",\"Est Dia in Feet(max)\",\"Close Approach Date\",\"Epoch Date Close Approach\",\"Relative Velocity km per sec\",\"Relative Velocity km per hr\",\"Miles per hour\",\"Miss Dist.(Astronomical)\",\"Miss Dist.(lunar)\",\"Miss Dist.(kilometers)\",\"Miss Dist.(miles)\",\"Orbit ID\",\"Orbit Determination Date\",\"Orbit Uncertainity\",\"Minimum Orbit Intersection\",\"Jupiter Tisserand Invariant\",\"Epoch Osculation\",\"Eccentricity\",\"Semi Major Axis\",\"Inclination\",\"Asc Node Longitude\",\"Orbital Period\",\"Perihelion Distance\",\"Perihelion Arg\",\"Aphelion Dist\",\"Perihelion Time\",\"Mean Anomaly\",\"Mean Motion\"]\n",
    "class_names = [\"hazardous\" , \"harmless\"]"
   ]
  },
  {
   "cell_type": "markdown",
   "metadata": {},
   "source": [
    "### load training data"
   ]
  },
  {
   "cell_type": "markdown",
   "metadata": {},
   "source": [
    "The dataset to classify hazardous and not hazardous asteroid is available on https://www.kaggle.com/shrutimehta/nasa-asteroids-classification and is given as a csv file. The training target is the label \"Hazardous\" which implies if a asteroid is hazardous or not. The columns oribiting body and equinox are dropped to get create a better model. To use the dates numerically the dates are converted into an appropriate format and thereafter all data are standartized using StandardScaler."
   ]
  },
  {
   "cell_type": "code",
   "execution_count": 3,
   "metadata": {},
   "outputs": [],
   "source": [
    "trainingsdata = pd.read_csv(\"../data/nasa-asteroids-classification/nasa.csv\")"
   ]
  },
  {
   "cell_type": "code",
   "execution_count": 4,
   "metadata": {},
   "outputs": [],
   "source": [
    "labels = trainingsdata[\"Hazardous\"]"
   ]
  },
  {
   "cell_type": "code",
   "execution_count": 5,
   "metadata": {},
   "outputs": [
    {
     "data": {
      "text/html": [
       "<div>\n",
       "<style scoped>\n",
       "    .dataframe tbody tr th:only-of-type {\n",
       "        vertical-align: middle;\n",
       "    }\n",
       "\n",
       "    .dataframe tbody tr th {\n",
       "        vertical-align: top;\n",
       "    }\n",
       "\n",
       "    .dataframe thead th {\n",
       "        text-align: right;\n",
       "    }\n",
       "</style>\n",
       "<table border=\"1\" class=\"dataframe\">\n",
       "  <thead>\n",
       "    <tr style=\"text-align: right;\">\n",
       "      <th></th>\n",
       "      <th>Neo Reference ID</th>\n",
       "      <th>Name</th>\n",
       "      <th>Absolute Magnitude</th>\n",
       "      <th>Est Dia in KM(min)</th>\n",
       "      <th>Est Dia in KM(max)</th>\n",
       "      <th>Est Dia in M(min)</th>\n",
       "      <th>Est Dia in M(max)</th>\n",
       "      <th>Est Dia in Miles(min)</th>\n",
       "      <th>Est Dia in Miles(max)</th>\n",
       "      <th>Est Dia in Feet(min)</th>\n",
       "      <th>...</th>\n",
       "      <th>Semi Major Axis</th>\n",
       "      <th>Inclination</th>\n",
       "      <th>Asc Node Longitude</th>\n",
       "      <th>Orbital Period</th>\n",
       "      <th>Perihelion Distance</th>\n",
       "      <th>Perihelion Arg</th>\n",
       "      <th>Aphelion Dist</th>\n",
       "      <th>Perihelion Time</th>\n",
       "      <th>Mean Anomaly</th>\n",
       "      <th>Mean Motion</th>\n",
       "    </tr>\n",
       "  </thead>\n",
       "  <tbody>\n",
       "    <tr>\n",
       "      <th>0</th>\n",
       "      <td>3703080</td>\n",
       "      <td>3703080</td>\n",
       "      <td>21.600</td>\n",
       "      <td>0.127220</td>\n",
       "      <td>0.284472</td>\n",
       "      <td>127.219879</td>\n",
       "      <td>284.472297</td>\n",
       "      <td>0.079051</td>\n",
       "      <td>0.176763</td>\n",
       "      <td>417.388066</td>\n",
       "      <td>...</td>\n",
       "      <td>1.407011</td>\n",
       "      <td>6.025981</td>\n",
       "      <td>314.373913</td>\n",
       "      <td>609.599786</td>\n",
       "      <td>0.808259</td>\n",
       "      <td>57.257470</td>\n",
       "      <td>2.005764</td>\n",
       "      <td>2.458162e+06</td>\n",
       "      <td>264.837533</td>\n",
       "      <td>0.590551</td>\n",
       "    </tr>\n",
       "    <tr>\n",
       "      <th>1</th>\n",
       "      <td>3723955</td>\n",
       "      <td>3723955</td>\n",
       "      <td>21.300</td>\n",
       "      <td>0.146068</td>\n",
       "      <td>0.326618</td>\n",
       "      <td>146.067964</td>\n",
       "      <td>326.617897</td>\n",
       "      <td>0.090762</td>\n",
       "      <td>0.202951</td>\n",
       "      <td>479.225620</td>\n",
       "      <td>...</td>\n",
       "      <td>1.107776</td>\n",
       "      <td>28.412996</td>\n",
       "      <td>136.717242</td>\n",
       "      <td>425.869294</td>\n",
       "      <td>0.718200</td>\n",
       "      <td>313.091975</td>\n",
       "      <td>1.497352</td>\n",
       "      <td>2.457795e+06</td>\n",
       "      <td>173.741112</td>\n",
       "      <td>0.845330</td>\n",
       "    </tr>\n",
       "    <tr>\n",
       "      <th>2</th>\n",
       "      <td>2446862</td>\n",
       "      <td>2446862</td>\n",
       "      <td>20.300</td>\n",
       "      <td>0.231502</td>\n",
       "      <td>0.517654</td>\n",
       "      <td>231.502122</td>\n",
       "      <td>517.654482</td>\n",
       "      <td>0.143849</td>\n",
       "      <td>0.321655</td>\n",
       "      <td>759.521423</td>\n",
       "      <td>...</td>\n",
       "      <td>1.458824</td>\n",
       "      <td>4.237961</td>\n",
       "      <td>259.475979</td>\n",
       "      <td>643.580228</td>\n",
       "      <td>0.950791</td>\n",
       "      <td>248.415038</td>\n",
       "      <td>1.966857</td>\n",
       "      <td>2.458120e+06</td>\n",
       "      <td>292.893654</td>\n",
       "      <td>0.559371</td>\n",
       "    </tr>\n",
       "    <tr>\n",
       "      <th>3</th>\n",
       "      <td>3092506</td>\n",
       "      <td>3092506</td>\n",
       "      <td>27.400</td>\n",
       "      <td>0.008801</td>\n",
       "      <td>0.019681</td>\n",
       "      <td>8.801465</td>\n",
       "      <td>19.680675</td>\n",
       "      <td>0.005469</td>\n",
       "      <td>0.012229</td>\n",
       "      <td>28.876199</td>\n",
       "      <td>...</td>\n",
       "      <td>1.255903</td>\n",
       "      <td>7.905894</td>\n",
       "      <td>57.173266</td>\n",
       "      <td>514.082140</td>\n",
       "      <td>0.983902</td>\n",
       "      <td>18.707701</td>\n",
       "      <td>1.527904</td>\n",
       "      <td>2.457902e+06</td>\n",
       "      <td>68.741007</td>\n",
       "      <td>0.700277</td>\n",
       "    </tr>\n",
       "    <tr>\n",
       "      <th>4</th>\n",
       "      <td>3514799</td>\n",
       "      <td>3514799</td>\n",
       "      <td>21.600</td>\n",
       "      <td>0.127220</td>\n",
       "      <td>0.284472</td>\n",
       "      <td>127.219879</td>\n",
       "      <td>284.472297</td>\n",
       "      <td>0.079051</td>\n",
       "      <td>0.176763</td>\n",
       "      <td>417.388066</td>\n",
       "      <td>...</td>\n",
       "      <td>1.225615</td>\n",
       "      <td>16.793382</td>\n",
       "      <td>84.629307</td>\n",
       "      <td>495.597821</td>\n",
       "      <td>0.967687</td>\n",
       "      <td>158.263596</td>\n",
       "      <td>1.483543</td>\n",
       "      <td>2.457814e+06</td>\n",
       "      <td>135.142133</td>\n",
       "      <td>0.726395</td>\n",
       "    </tr>\n",
       "    <tr>\n",
       "      <th>...</th>\n",
       "      <td>...</td>\n",
       "      <td>...</td>\n",
       "      <td>...</td>\n",
       "      <td>...</td>\n",
       "      <td>...</td>\n",
       "      <td>...</td>\n",
       "      <td>...</td>\n",
       "      <td>...</td>\n",
       "      <td>...</td>\n",
       "      <td>...</td>\n",
       "      <td>...</td>\n",
       "      <td>...</td>\n",
       "      <td>...</td>\n",
       "      <td>...</td>\n",
       "      <td>...</td>\n",
       "      <td>...</td>\n",
       "      <td>...</td>\n",
       "      <td>...</td>\n",
       "      <td>...</td>\n",
       "      <td>...</td>\n",
       "      <td>...</td>\n",
       "    </tr>\n",
       "    <tr>\n",
       "      <th>4682</th>\n",
       "      <td>3759007</td>\n",
       "      <td>3759007</td>\n",
       "      <td>23.900</td>\n",
       "      <td>0.044112</td>\n",
       "      <td>0.098637</td>\n",
       "      <td>44.111820</td>\n",
       "      <td>98.637028</td>\n",
       "      <td>0.027410</td>\n",
       "      <td>0.061290</td>\n",
       "      <td>144.723824</td>\n",
       "      <td>...</td>\n",
       "      <td>1.161429</td>\n",
       "      <td>39.880491</td>\n",
       "      <td>164.183305</td>\n",
       "      <td>457.179984</td>\n",
       "      <td>0.741558</td>\n",
       "      <td>276.395697</td>\n",
       "      <td>1.581299</td>\n",
       "      <td>2.457708e+06</td>\n",
       "      <td>304.306025</td>\n",
       "      <td>0.787436</td>\n",
       "    </tr>\n",
       "    <tr>\n",
       "      <th>4683</th>\n",
       "      <td>3759295</td>\n",
       "      <td>3759295</td>\n",
       "      <td>28.200</td>\n",
       "      <td>0.006089</td>\n",
       "      <td>0.013616</td>\n",
       "      <td>6.089126</td>\n",
       "      <td>13.615700</td>\n",
       "      <td>0.003784</td>\n",
       "      <td>0.008460</td>\n",
       "      <td>19.977449</td>\n",
       "      <td>...</td>\n",
       "      <td>1.075134</td>\n",
       "      <td>5.360249</td>\n",
       "      <td>345.225230</td>\n",
       "      <td>407.185767</td>\n",
       "      <td>0.996434</td>\n",
       "      <td>42.111064</td>\n",
       "      <td>1.153835</td>\n",
       "      <td>2.458088e+06</td>\n",
       "      <td>282.978786</td>\n",
       "      <td>0.884117</td>\n",
       "    </tr>\n",
       "    <tr>\n",
       "      <th>4684</th>\n",
       "      <td>3759714</td>\n",
       "      <td>3759714</td>\n",
       "      <td>22.700</td>\n",
       "      <td>0.076658</td>\n",
       "      <td>0.171412</td>\n",
       "      <td>76.657557</td>\n",
       "      <td>171.411509</td>\n",
       "      <td>0.047633</td>\n",
       "      <td>0.106510</td>\n",
       "      <td>251.501180</td>\n",
       "      <td>...</td>\n",
       "      <td>1.528234</td>\n",
       "      <td>4.405467</td>\n",
       "      <td>37.026468</td>\n",
       "      <td>690.054279</td>\n",
       "      <td>0.965760</td>\n",
       "      <td>274.692712</td>\n",
       "      <td>2.090708</td>\n",
       "      <td>2.458300e+06</td>\n",
       "      <td>203.501147</td>\n",
       "      <td>0.521698</td>\n",
       "    </tr>\n",
       "    <tr>\n",
       "      <th>4685</th>\n",
       "      <td>3759720</td>\n",
       "      <td>3759720</td>\n",
       "      <td>21.800</td>\n",
       "      <td>0.116026</td>\n",
       "      <td>0.259442</td>\n",
       "      <td>116.025908</td>\n",
       "      <td>259.441818</td>\n",
       "      <td>0.072095</td>\n",
       "      <td>0.161210</td>\n",
       "      <td>380.662441</td>\n",
       "      <td>...</td>\n",
       "      <td>1.486600</td>\n",
       "      <td>21.080244</td>\n",
       "      <td>163.802910</td>\n",
       "      <td>662.048343</td>\n",
       "      <td>1.185467</td>\n",
       "      <td>180.346090</td>\n",
       "      <td>1.787733</td>\n",
       "      <td>2.458288e+06</td>\n",
       "      <td>203.524965</td>\n",
       "      <td>0.543767</td>\n",
       "    </tr>\n",
       "    <tr>\n",
       "      <th>4686</th>\n",
       "      <td>3772978</td>\n",
       "      <td>3772978</td>\n",
       "      <td>19.109</td>\n",
       "      <td>0.400641</td>\n",
       "      <td>0.895860</td>\n",
       "      <td>400.640618</td>\n",
       "      <td>895.859655</td>\n",
       "      <td>0.248946</td>\n",
       "      <td>0.556661</td>\n",
       "      <td>1314.437764</td>\n",
       "      <td>...</td>\n",
       "      <td>1.474045</td>\n",
       "      <td>53.574923</td>\n",
       "      <td>187.642183</td>\n",
       "      <td>653.679098</td>\n",
       "      <td>0.876110</td>\n",
       "      <td>222.436688</td>\n",
       "      <td>2.071980</td>\n",
       "      <td>2.458319e+06</td>\n",
       "      <td>184.820424</td>\n",
       "      <td>0.550729</td>\n",
       "    </tr>\n",
       "  </tbody>\n",
       "</table>\n",
       "<p>4687 rows × 37 columns</p>\n",
       "</div>"
      ],
      "text/plain": [
       "      Neo Reference ID     Name  Absolute Magnitude  Est Dia in KM(min)  \\\n",
       "0              3703080  3703080              21.600            0.127220   \n",
       "1              3723955  3723955              21.300            0.146068   \n",
       "2              2446862  2446862              20.300            0.231502   \n",
       "3              3092506  3092506              27.400            0.008801   \n",
       "4              3514799  3514799              21.600            0.127220   \n",
       "...                ...      ...                 ...                 ...   \n",
       "4682           3759007  3759007              23.900            0.044112   \n",
       "4683           3759295  3759295              28.200            0.006089   \n",
       "4684           3759714  3759714              22.700            0.076658   \n",
       "4685           3759720  3759720              21.800            0.116026   \n",
       "4686           3772978  3772978              19.109            0.400641   \n",
       "\n",
       "      Est Dia in KM(max)  Est Dia in M(min)  Est Dia in M(max)  \\\n",
       "0               0.284472         127.219879         284.472297   \n",
       "1               0.326618         146.067964         326.617897   \n",
       "2               0.517654         231.502122         517.654482   \n",
       "3               0.019681           8.801465          19.680675   \n",
       "4               0.284472         127.219879         284.472297   \n",
       "...                  ...                ...                ...   \n",
       "4682            0.098637          44.111820          98.637028   \n",
       "4683            0.013616           6.089126          13.615700   \n",
       "4684            0.171412          76.657557         171.411509   \n",
       "4685            0.259442         116.025908         259.441818   \n",
       "4686            0.895860         400.640618         895.859655   \n",
       "\n",
       "      Est Dia in Miles(min)  Est Dia in Miles(max)  Est Dia in Feet(min)  ...  \\\n",
       "0                  0.079051               0.176763            417.388066  ...   \n",
       "1                  0.090762               0.202951            479.225620  ...   \n",
       "2                  0.143849               0.321655            759.521423  ...   \n",
       "3                  0.005469               0.012229             28.876199  ...   \n",
       "4                  0.079051               0.176763            417.388066  ...   \n",
       "...                     ...                    ...                   ...  ...   \n",
       "4682               0.027410               0.061290            144.723824  ...   \n",
       "4683               0.003784               0.008460             19.977449  ...   \n",
       "4684               0.047633               0.106510            251.501180  ...   \n",
       "4685               0.072095               0.161210            380.662441  ...   \n",
       "4686               0.248946               0.556661           1314.437764  ...   \n",
       "\n",
       "      Semi Major Axis Inclination  Asc Node Longitude  Orbital Period  \\\n",
       "0            1.407011    6.025981          314.373913      609.599786   \n",
       "1            1.107776   28.412996          136.717242      425.869294   \n",
       "2            1.458824    4.237961          259.475979      643.580228   \n",
       "3            1.255903    7.905894           57.173266      514.082140   \n",
       "4            1.225615   16.793382           84.629307      495.597821   \n",
       "...               ...         ...                 ...             ...   \n",
       "4682         1.161429   39.880491          164.183305      457.179984   \n",
       "4683         1.075134    5.360249          345.225230      407.185767   \n",
       "4684         1.528234    4.405467           37.026468      690.054279   \n",
       "4685         1.486600   21.080244          163.802910      662.048343   \n",
       "4686         1.474045   53.574923          187.642183      653.679098   \n",
       "\n",
       "      Perihelion Distance  Perihelion Arg  Aphelion Dist  Perihelion Time  \\\n",
       "0                0.808259       57.257470       2.005764     2.458162e+06   \n",
       "1                0.718200      313.091975       1.497352     2.457795e+06   \n",
       "2                0.950791      248.415038       1.966857     2.458120e+06   \n",
       "3                0.983902       18.707701       1.527904     2.457902e+06   \n",
       "4                0.967687      158.263596       1.483543     2.457814e+06   \n",
       "...                   ...             ...            ...              ...   \n",
       "4682             0.741558      276.395697       1.581299     2.457708e+06   \n",
       "4683             0.996434       42.111064       1.153835     2.458088e+06   \n",
       "4684             0.965760      274.692712       2.090708     2.458300e+06   \n",
       "4685             1.185467      180.346090       1.787733     2.458288e+06   \n",
       "4686             0.876110      222.436688       2.071980     2.458319e+06   \n",
       "\n",
       "      Mean Anomaly  Mean Motion  \n",
       "0       264.837533     0.590551  \n",
       "1       173.741112     0.845330  \n",
       "2       292.893654     0.559371  \n",
       "3        68.741007     0.700277  \n",
       "4       135.142133     0.726395  \n",
       "...            ...          ...  \n",
       "4682    304.306025     0.787436  \n",
       "4683    282.978786     0.884117  \n",
       "4684    203.501147     0.521698  \n",
       "4685    203.524965     0.543767  \n",
       "4686    184.820424     0.550729  \n",
       "\n",
       "[4687 rows x 37 columns]"
      ]
     },
     "execution_count": 5,
     "metadata": {},
     "output_type": "execute_result"
    }
   ],
   "source": [
    "trainingsdata = trainingsdata.drop(\"Hazardous\", axis=1).drop(\"Orbiting Body\", axis=1).drop(\"Equinox\", axis=1)\n",
    "trainingsdata"
   ]
  },
  {
   "cell_type": "code",
   "execution_count": 6,
   "metadata": {},
   "outputs": [],
   "source": [
    "trainingsdata[\"Close Approach Date\"] = pd.to_datetime(trainingsdata[\"Close Approach Date\"],format='%Y-%m-%d')\n",
    "trainingsdata[\"Close Approach Date\"] = trainingsdata[\"Close Approach Date\"].map(dt.datetime.toordinal)"
   ]
  },
  {
   "cell_type": "code",
   "execution_count": 7,
   "metadata": {},
   "outputs": [],
   "source": [
    "trainingsdata[\"Orbit Determination Date\"] = pd.to_datetime(trainingsdata[\"Orbit Determination Date\"],format='%Y-%m-%d %H:%M')\n",
    "trainingsdata[\"Orbit Determination Date\"] = trainingsdata[\"Orbit Determination Date\"].map(dt.datetime.toordinal)"
   ]
  },
  {
   "cell_type": "code",
   "execution_count": 8,
   "metadata": {},
   "outputs": [],
   "source": [
    "# standardize the data\n",
    "trainingsdata = preprocessing.StandardScaler().fit(trainingsdata).transform(trainingsdata.astype(float))"
   ]
  },
  {
   "cell_type": "code",
   "execution_count": 9,
   "metadata": {},
   "outputs": [
    {
     "data": {
      "text/plain": [
       "array([[ 0.78532144,  0.78532144, -0.23104209, ...,  0.45919023,\n",
       "         0.77839321, -0.43110028],\n",
       "       [ 0.82337682,  0.82337682, -0.33482448, ...,  0.07081791,\n",
       "        -0.06909298,  0.31258164],\n",
       "       [-1.50477982, -1.50477982, -0.68076581, ...,  0.41557933,\n",
       "         1.03940428, -0.52211437],\n",
       "       ...,\n",
       "       [ 0.88856593,  0.88856593,  0.14949337, ...,  0.60624482,\n",
       "         0.20776991, -0.63207867],\n",
       "       [ 0.88857687,  0.88857687, -0.16185382, ...,  0.5933032 ,\n",
       "         0.2079915 , -0.56766111],\n",
       "       [ 0.91274637,  0.91274637, -1.09278193, ...,  0.62542342,\n",
       "         0.03397983, -0.54733945]])"
      ]
     },
     "execution_count": 9,
     "metadata": {},
     "output_type": "execute_result"
    }
   ],
   "source": [
    "trainingsdata"
   ]
  },
  {
   "cell_type": "markdown",
   "metadata": {},
   "source": [
    "## Train the model"
   ]
  },
  {
   "cell_type": "markdown",
   "metadata": {},
   "source": [
    "The first approch to get a model is to use a simple linear regression and is compared against a more advanced model the a random forest classifier by preprocessing the data with a Principal component analysis."
   ]
  },
  {
   "cell_type": "code",
   "execution_count": 10,
   "metadata": {},
   "outputs": [],
   "source": [
    "#import the base package and the pipeline model\n",
    "import sklearn\n",
    "from sklearn.pipeline import Pipeline\n",
    "from sklearn.pipeline import make_pipeline\n",
    "\n",
    "# decomposition for preprocess the data\n",
    "from sklearn.decomposition import PCA\n",
    "\n",
    "# simple regression models \n",
    "from sklearn.linear_model import LinearRegression\n",
    "\n",
    "# classifier models \n",
    "from sklearn.ensemble import RandomForestClassifier, AdaBoostClassifier"
   ]
  },
  {
   "cell_type": "code",
   "execution_count": 11,
   "metadata": {},
   "outputs": [
    {
     "name": "stdout",
     "output_type": "stream",
     "text": [
      "min: False max: True\n"
     ]
    }
   ],
   "source": [
    "# get the range for the labels\n",
    "print(\"min:\", min(labels),\"max:\", max(labels))"
   ]
  },
  {
   "cell_type": "code",
   "execution_count": 12,
   "metadata": {},
   "outputs": [],
   "source": []
  },
  {
   "cell_type": "markdown",
   "metadata": {},
   "source": [
    "### splitting the dataset\n",
    "\n",
    "the dataset will be splitted into a training data set which contains a 67% of all datapoints and a control dataset / test dataset which contains the rest of the data namely 33%."
   ]
  },
  {
   "cell_type": "code",
   "execution_count": 13,
   "metadata": {},
   "outputs": [],
   "source": [
    "from sklearn.model_selection import train_test_split\n",
    "X_train, X_test, y_train, y_test = train_test_split(trainingsdata, labels, test_size=0.33, random_state=101)"
   ]
  },
  {
   "cell_type": "markdown",
   "metadata": {},
   "source": [
    "### Test linear regression as classifier"
   ]
  },
  {
   "cell_type": "code",
   "execution_count": 14,
   "metadata": {},
   "outputs": [
    {
     "data": {
      "text/plain": [
       "LinearRegression(copy_X=True, fit_intercept=True, n_jobs=None, normalize=False)"
      ]
     },
     "execution_count": 14,
     "metadata": {},
     "output_type": "execute_result"
    }
   ],
   "source": [
    "#first analyse the data with a linear regression\n",
    "lm = LinearRegression()\n",
    "lm.fit(X_train,y_train)\n"
   ]
  },
  {
   "cell_type": "code",
   "execution_count": 15,
   "metadata": {},
   "outputs": [
    {
     "name": "stdout",
     "output_type": "stream",
     "text": [
      "linear regression score overall: 0.40180270290977416\n"
     ]
    }
   ],
   "source": [
    "print(\"linear regression score overall:\", lm.score(trainingsdata,labels))"
   ]
  },
  {
   "cell_type": "code",
   "execution_count": 16,
   "metadata": {},
   "outputs": [
    {
     "name": "stdout",
     "output_type": "stream",
     "text": [
      "linear regression score for the trainingdata: 0.4035052048919909\n"
     ]
    }
   ],
   "source": [
    "print(\"linear regression score for the trainingdata:\", lm.score(X_train,y_train))"
   ]
  },
  {
   "cell_type": "code",
   "execution_count": 17,
   "metadata": {},
   "outputs": [
    {
     "name": "stdout",
     "output_type": "stream",
     "text": [
      "linear regression score for the testdata: 0.397708217230449\n"
     ]
    }
   ],
   "source": [
    "print(\"linear regression score for the testdata:\", lm.score(X_test,y_test))"
   ]
  },
  {
   "cell_type": "markdown",
   "metadata": {},
   "source": [
    "The coefficient of confidence of 0.397839 indicates that the linear regression model does not fit the data properly so that a better model is required for this usecase. Even the trainingdata is not fit well."
   ]
  },
  {
   "cell_type": "markdown",
   "metadata": {},
   "source": [
    "## Train a blackbox classification model"
   ]
  },
  {
   "cell_type": "code",
   "execution_count": 27,
   "metadata": {},
   "outputs": [
    {
     "data": {
      "text/plain": [
       "Pipeline(memory=None,\n",
       "         steps=[('pca',\n",
       "                 PCA(copy=True, iterated_power='auto', n_components=None,\n",
       "                     random_state=None, svd_solver='auto', tol=0.0,\n",
       "                     whiten=False)),\n",
       "                ('rf',\n",
       "                 RandomForestClassifier(bootstrap=True, ccp_alpha=0.0,\n",
       "                                        class_weight=None, criterion='gini',\n",
       "                                        max_depth=None, max_features='auto',\n",
       "                                        max_leaf_nodes=None, max_samples=None,\n",
       "                                        min_impurity_decrease=0.0,\n",
       "                                        min_impurity_split=None,\n",
       "                                        min_samples_leaf=1, min_samples_split=2,\n",
       "                                        min_weight_fraction_leaf=0.0,\n",
       "                                        n_estimators=100, n_jobs=-1,\n",
       "                                        oob_score=False, random_state=None,\n",
       "                                        verbose=0, warm_start=False))],\n",
       "         verbose=False)"
      ]
     },
     "execution_count": 27,
     "metadata": {},
     "output_type": "execute_result"
    }
   ],
   "source": [
    "# analyse the data with an appropriate model for instance a random forest classifier\n",
    "model = Pipeline\n",
    "pca = PCA() # preproccess the data\n",
    "rf = RandomForestClassifier(n_estimators=100, n_jobs=-1)\n",
    "model = Pipeline([('pca', pca), ('rf', rf)])\n",
    "model.fit(X_train, y_train)"
   ]
  },
  {
   "cell_type": "code",
   "execution_count": 28,
   "metadata": {},
   "outputs": [
    {
     "name": "stdout",
     "output_type": "stream",
     "text": [
      "Overall score for modell:  0.968261743707265\n"
     ]
    }
   ],
   "source": [
    "# get an prediction of the model for all data\n",
    "pred = model.predict(trainingsdata)\n",
    "print(\"Overall score for modell: \", sklearn.metrics.f1_score(labels, pred, average='weighted'))"
   ]
  },
  {
   "cell_type": "code",
   "execution_count": 29,
   "metadata": {},
   "outputs": [
    {
     "name": "stdout",
     "output_type": "stream",
     "text": [
      "Score for trainingsdata:  1.0\n"
     ]
    }
   ],
   "source": [
    "# get an prediction of the model for all data\n",
    "pred = model.predict(X_train)\n",
    "print(\"Score for trainingsdata: \", sklearn.metrics.f1_score(y_train, pred, average='weighted'))"
   ]
  },
  {
   "cell_type": "code",
   "execution_count": 30,
   "metadata": {},
   "outputs": [
    {
     "name": "stdout",
     "output_type": "stream",
     "text": [
      "Score for testdata:  0.8960167621425228\n"
     ]
    }
   ],
   "source": [
    "# get an prediction of the model for all data\n",
    "pred = model.predict(X_test)\n",
    "print(\"Score for testdata: \", sklearn.metrics.f1_score(y_test, pred, average='weighted'))"
   ]
  },
  {
   "cell_type": "code",
   "execution_count": 31,
   "metadata": {},
   "outputs": [
    {
     "name": "stdout",
     "output_type": "stream",
     "text": [
      "[[0.94 0.06]\n",
      " [0.14 0.86]\n",
      " [0.99 0.01]\n",
      " ...\n",
      " [0.97 0.03]\n",
      " [0.91 0.09]\n",
      " [1.   0.  ]]\n"
     ]
    }
   ],
   "source": [
    "# prediction influence of components\n",
    "print(model.predict_proba(X_train).round(3))"
   ]
  },
  {
   "cell_type": "code",
   "execution_count": null,
   "metadata": {},
   "outputs": [],
   "source": []
  },
  {
   "cell_type": "markdown",
   "metadata": {},
   "source": [
    "## Lime Blackbox explainer\n"
   ]
  },
  {
   "cell_type": "markdown",
   "metadata": {},
   "source": [
    "The blackbox explainer needs a pandas dataset or at least a labeled dataset to display the feature names properly in the explaination diagram. Because the data was standartize by numpy this must be created anew from the feature name list and the standartized data. The lime local explainer is initilized by the dataset and is used to explain the classification for some arbitratry items"
   ]
  },
  {
   "cell_type": "code",
   "execution_count": 33,
   "metadata": {},
   "outputs": [
    {
     "data": {
      "text/html": [
       "<div>\n",
       "<style scoped>\n",
       "    .dataframe tbody tr th:only-of-type {\n",
       "        vertical-align: middle;\n",
       "    }\n",
       "\n",
       "    .dataframe tbody tr th {\n",
       "        vertical-align: top;\n",
       "    }\n",
       "\n",
       "    .dataframe thead th {\n",
       "        text-align: right;\n",
       "    }\n",
       "</style>\n",
       "<table border=\"1\" class=\"dataframe\">\n",
       "  <thead>\n",
       "    <tr style=\"text-align: right;\">\n",
       "      <th></th>\n",
       "      <th>Neo Reference ID</th>\n",
       "      <th>Name</th>\n",
       "      <th>Absolute Magnitude</th>\n",
       "      <th>Est Dia in KM(min)</th>\n",
       "      <th>Est Dia in KM(max)</th>\n",
       "      <th>Est Dia in M(min)</th>\n",
       "      <th>Est Dia in M(max)</th>\n",
       "      <th>Est Dia in Miles(min)</th>\n",
       "      <th>Est Dia in Miles(max)</th>\n",
       "      <th>Est Dia in Feet(min)</th>\n",
       "      <th>...</th>\n",
       "      <th>Semi Major Axis</th>\n",
       "      <th>Inclination</th>\n",
       "      <th>Asc Node Longitude</th>\n",
       "      <th>Orbital Period</th>\n",
       "      <th>Perihelion Distance</th>\n",
       "      <th>Perihelion Arg</th>\n",
       "      <th>Aphelion Dist</th>\n",
       "      <th>Perihelion Time</th>\n",
       "      <th>Mean Anomaly</th>\n",
       "      <th>Mean Motion</th>\n",
       "    </tr>\n",
       "  </thead>\n",
       "  <tbody>\n",
       "    <tr>\n",
       "      <th>0</th>\n",
       "      <td>0.510951</td>\n",
       "      <td>0.510951</td>\n",
       "      <td>-0.542389</td>\n",
       "      <td>-0.032606</td>\n",
       "      <td>-0.032606</td>\n",
       "      <td>-0.032606</td>\n",
       "      <td>-0.032606</td>\n",
       "      <td>-0.032606</td>\n",
       "      <td>-0.032606</td>\n",
       "      <td>-0.032606</td>\n",
       "      <td>...</td>\n",
       "      <td>2.398712</td>\n",
       "      <td>-0.867384</td>\n",
       "      <td>-1.145891</td>\n",
       "      <td>2.552392</td>\n",
       "      <td>1.143730</td>\n",
       "      <td>1.152731</td>\n",
       "      <td>2.351752</td>\n",
       "      <td>0.946734</td>\n",
       "      <td>0.348341</td>\n",
       "      <td>-1.490776</td>\n",
       "    </tr>\n",
       "    <tr>\n",
       "      <th>1</th>\n",
       "      <td>-2.040490</td>\n",
       "      <td>-2.040490</td>\n",
       "      <td>-1.407243</td>\n",
       "      <td>1.094104</td>\n",
       "      <td>1.094104</td>\n",
       "      <td>1.094104</td>\n",
       "      <td>1.094104</td>\n",
       "      <td>1.094104</td>\n",
       "      <td>1.094104</td>\n",
       "      <td>1.094104</td>\n",
       "      <td>...</td>\n",
       "      <td>-0.113840</td>\n",
       "      <td>1.654183</td>\n",
       "      <td>0.396987</td>\n",
       "      <td>-0.185025</td>\n",
       "      <td>-2.229219</td>\n",
       "      <td>0.477486</td>\n",
       "      <td>0.441676</td>\n",
       "      <td>0.127308</td>\n",
       "      <td>-0.786372</td>\n",
       "      <td>-0.301437</td>\n",
       "    </tr>\n",
       "    <tr>\n",
       "      <th>2</th>\n",
       "      <td>0.719060</td>\n",
       "      <td>0.719060</td>\n",
       "      <td>0.875970</td>\n",
       "      <td>-0.474814</td>\n",
       "      <td>-0.474814</td>\n",
       "      <td>-0.474814</td>\n",
       "      <td>-0.474814</td>\n",
       "      <td>-0.474814</td>\n",
       "      <td>-0.474814</td>\n",
       "      <td>-0.474814</td>\n",
       "      <td>...</td>\n",
       "      <td>-0.205232</td>\n",
       "      <td>-1.133713</td>\n",
       "      <td>-1.228775</td>\n",
       "      <td>-0.266208</td>\n",
       "      <td>0.971346</td>\n",
       "      <td>0.064993</td>\n",
       "      <td>-0.473211</td>\n",
       "      <td>0.149383</td>\n",
       "      <td>-0.865961</td>\n",
       "      <td>-0.197476</td>\n",
       "    </tr>\n",
       "    <tr>\n",
       "      <th>3</th>\n",
       "      <td>0.852684</td>\n",
       "      <td>0.852684</td>\n",
       "      <td>0.564623</td>\n",
       "      <td>-0.434310</td>\n",
       "      <td>-0.434310</td>\n",
       "      <td>-0.434310</td>\n",
       "      <td>-0.434310</td>\n",
       "      <td>-0.434310</td>\n",
       "      <td>-0.434310</td>\n",
       "      <td>-0.434310</td>\n",
       "      <td>...</td>\n",
       "      <td>-0.083171</td>\n",
       "      <td>2.164693</td>\n",
       "      <td>1.174080</td>\n",
       "      <td>-0.157452</td>\n",
       "      <td>1.082984</td>\n",
       "      <td>0.224251</td>\n",
       "      <td>-0.367133</td>\n",
       "      <td>-0.317064</td>\n",
       "      <td>1.505526</td>\n",
       "      <td>-0.334279</td>\n",
       "    </tr>\n",
       "    <tr>\n",
       "      <th>4</th>\n",
       "      <td>-0.356770</td>\n",
       "      <td>-0.356770</td>\n",
       "      <td>-1.165084</td>\n",
       "      <td>0.640033</td>\n",
       "      <td>0.640033</td>\n",
       "      <td>0.640033</td>\n",
       "      <td>0.640033</td>\n",
       "      <td>0.640033</td>\n",
       "      <td>0.640033</td>\n",
       "      <td>0.640033</td>\n",
       "      <td>...</td>\n",
       "      <td>0.464502</td>\n",
       "      <td>2.432648</td>\n",
       "      <td>1.414707</td>\n",
       "      <td>0.361653</td>\n",
       "      <td>1.070329</td>\n",
       "      <td>0.657114</td>\n",
       "      <td>0.239467</td>\n",
       "      <td>-0.325631</td>\n",
       "      <td>-0.902986</td>\n",
       "      <td>-0.789696</td>\n",
       "    </tr>\n",
       "    <tr>\n",
       "      <th>...</th>\n",
       "      <td>...</td>\n",
       "      <td>...</td>\n",
       "      <td>...</td>\n",
       "      <td>...</td>\n",
       "      <td>...</td>\n",
       "      <td>...</td>\n",
       "      <td>...</td>\n",
       "      <td>...</td>\n",
       "      <td>...</td>\n",
       "      <td>...</td>\n",
       "      <td>...</td>\n",
       "      <td>...</td>\n",
       "      <td>...</td>\n",
       "      <td>...</td>\n",
       "      <td>...</td>\n",
       "      <td>...</td>\n",
       "      <td>...</td>\n",
       "      <td>...</td>\n",
       "      <td>...</td>\n",
       "      <td>...</td>\n",
       "      <td>...</td>\n",
       "    </tr>\n",
       "    <tr>\n",
       "      <th>3135</th>\n",
       "      <td>0.777603</td>\n",
       "      <td>0.777603</td>\n",
       "      <td>0.530029</td>\n",
       "      <td>-0.428684</td>\n",
       "      <td>-0.428684</td>\n",
       "      <td>-0.428684</td>\n",
       "      <td>-0.428684</td>\n",
       "      <td>-0.428684</td>\n",
       "      <td>-0.428684</td>\n",
       "      <td>-0.428684</td>\n",
       "      <td>...</td>\n",
       "      <td>-0.314507</td>\n",
       "      <td>0.613084</td>\n",
       "      <td>-1.024488</td>\n",
       "      <td>-0.361317</td>\n",
       "      <td>0.795249</td>\n",
       "      <td>1.079394</td>\n",
       "      <td>-0.548803</td>\n",
       "      <td>-0.847998</td>\n",
       "      <td>-1.291418</td>\n",
       "      <td>-0.059801</td>\n",
       "    </tr>\n",
       "    <tr>\n",
       "      <th>3136</th>\n",
       "      <td>0.786155</td>\n",
       "      <td>0.786155</td>\n",
       "      <td>0.426246</td>\n",
       "      <td>-0.410166</td>\n",
       "      <td>-0.410166</td>\n",
       "      <td>-0.410166</td>\n",
       "      <td>-0.410166</td>\n",
       "      <td>-0.410166</td>\n",
       "      <td>-0.410166</td>\n",
       "      <td>-0.410166</td>\n",
       "      <td>...</td>\n",
       "      <td>0.901848</td>\n",
       "      <td>-0.809588</td>\n",
       "      <td>1.600395</td>\n",
       "      <td>0.810527</td>\n",
       "      <td>0.723425</td>\n",
       "      <td>-0.020427</td>\n",
       "      <td>0.809551</td>\n",
       "      <td>0.304512</td>\n",
       "      <td>1.609667</td>\n",
       "      <td>-1.032477</td>\n",
       "    </tr>\n",
       "    <tr>\n",
       "      <th>3137</th>\n",
       "      <td>0.904776</td>\n",
       "      <td>0.904776</td>\n",
       "      <td>-0.749954</td>\n",
       "      <td>0.133229</td>\n",
       "      <td>0.133229</td>\n",
       "      <td>0.133229</td>\n",
       "      <td>0.133229</td>\n",
       "      <td>0.133229</td>\n",
       "      <td>0.133229</td>\n",
       "      <td>0.133229</td>\n",
       "      <td>...</td>\n",
       "      <td>0.228512</td>\n",
       "      <td>-0.154912</td>\n",
       "      <td>-0.807313</td>\n",
       "      <td>0.131891</td>\n",
       "      <td>-1.565169</td>\n",
       "      <td>0.063400</td>\n",
       "      <td>0.649923</td>\n",
       "      <td>0.176515</td>\n",
       "      <td>-1.168076</td>\n",
       "      <td>-0.619728</td>\n",
       "    </tr>\n",
       "    <tr>\n",
       "      <th>3138</th>\n",
       "      <td>-1.680518</td>\n",
       "      <td>-1.680518</td>\n",
       "      <td>-0.058071</td>\n",
       "      <td>-0.280217</td>\n",
       "      <td>-0.280217</td>\n",
       "      <td>-0.280217</td>\n",
       "      <td>-0.280217</td>\n",
       "      <td>-0.280217</td>\n",
       "      <td>-0.280217</td>\n",
       "      <td>-0.280217</td>\n",
       "      <td>...</td>\n",
       "      <td>-0.456577</td>\n",
       "      <td>-0.719782</td>\n",
       "      <td>0.347512</td>\n",
       "      <td>-0.481704</td>\n",
       "      <td>0.866733</td>\n",
       "      <td>0.808539</td>\n",
       "      <td>-0.723510</td>\n",
       "      <td>-2.479616</td>\n",
       "      <td>-0.553242</td>\n",
       "      <td>0.144948</td>\n",
       "    </tr>\n",
       "    <tr>\n",
       "      <th>3139</th>\n",
       "      <td>0.194279</td>\n",
       "      <td>0.194279</td>\n",
       "      <td>-0.749954</td>\n",
       "      <td>0.133229</td>\n",
       "      <td>0.133229</td>\n",
       "      <td>0.133229</td>\n",
       "      <td>0.133229</td>\n",
       "      <td>0.133229</td>\n",
       "      <td>0.133229</td>\n",
       "      <td>0.133229</td>\n",
       "      <td>...</td>\n",
       "      <td>-0.196562</td>\n",
       "      <td>0.424154</td>\n",
       "      <td>-0.354671</td>\n",
       "      <td>-0.258570</td>\n",
       "      <td>1.545245</td>\n",
       "      <td>-0.431437</td>\n",
       "      <td>-0.609654</td>\n",
       "      <td>0.355502</td>\n",
       "      <td>1.271203</td>\n",
       "      <td>-0.207751</td>\n",
       "    </tr>\n",
       "  </tbody>\n",
       "</table>\n",
       "<p>3140 rows × 37 columns</p>\n",
       "</div>"
      ],
      "text/plain": [
       "      Neo Reference ID      Name  Absolute Magnitude  Est Dia in KM(min)  \\\n",
       "0             0.510951  0.510951           -0.542389           -0.032606   \n",
       "1            -2.040490 -2.040490           -1.407243            1.094104   \n",
       "2             0.719060  0.719060            0.875970           -0.474814   \n",
       "3             0.852684  0.852684            0.564623           -0.434310   \n",
       "4            -0.356770 -0.356770           -1.165084            0.640033   \n",
       "...                ...       ...                 ...                 ...   \n",
       "3135          0.777603  0.777603            0.530029           -0.428684   \n",
       "3136          0.786155  0.786155            0.426246           -0.410166   \n",
       "3137          0.904776  0.904776           -0.749954            0.133229   \n",
       "3138         -1.680518 -1.680518           -0.058071           -0.280217   \n",
       "3139          0.194279  0.194279           -0.749954            0.133229   \n",
       "\n",
       "      Est Dia in KM(max)  Est Dia in M(min)  Est Dia in M(max)  \\\n",
       "0              -0.032606          -0.032606          -0.032606   \n",
       "1               1.094104           1.094104           1.094104   \n",
       "2              -0.474814          -0.474814          -0.474814   \n",
       "3              -0.434310          -0.434310          -0.434310   \n",
       "4               0.640033           0.640033           0.640033   \n",
       "...                  ...                ...                ...   \n",
       "3135           -0.428684          -0.428684          -0.428684   \n",
       "3136           -0.410166          -0.410166          -0.410166   \n",
       "3137            0.133229           0.133229           0.133229   \n",
       "3138           -0.280217          -0.280217          -0.280217   \n",
       "3139            0.133229           0.133229           0.133229   \n",
       "\n",
       "      Est Dia in Miles(min)  Est Dia in Miles(max)  Est Dia in Feet(min)  ...  \\\n",
       "0                 -0.032606              -0.032606             -0.032606  ...   \n",
       "1                  1.094104               1.094104              1.094104  ...   \n",
       "2                 -0.474814              -0.474814             -0.474814  ...   \n",
       "3                 -0.434310              -0.434310             -0.434310  ...   \n",
       "4                  0.640033               0.640033              0.640033  ...   \n",
       "...                     ...                    ...                   ...  ...   \n",
       "3135              -0.428684              -0.428684             -0.428684  ...   \n",
       "3136              -0.410166              -0.410166             -0.410166  ...   \n",
       "3137               0.133229               0.133229              0.133229  ...   \n",
       "3138              -0.280217              -0.280217             -0.280217  ...   \n",
       "3139               0.133229               0.133229              0.133229  ...   \n",
       "\n",
       "      Semi Major Axis  Inclination  Asc Node Longitude  Orbital Period  \\\n",
       "0            2.398712    -0.867384           -1.145891        2.552392   \n",
       "1           -0.113840     1.654183            0.396987       -0.185025   \n",
       "2           -0.205232    -1.133713           -1.228775       -0.266208   \n",
       "3           -0.083171     2.164693            1.174080       -0.157452   \n",
       "4            0.464502     2.432648            1.414707        0.361653   \n",
       "...               ...          ...                 ...             ...   \n",
       "3135        -0.314507     0.613084           -1.024488       -0.361317   \n",
       "3136         0.901848    -0.809588            1.600395        0.810527   \n",
       "3137         0.228512    -0.154912           -0.807313        0.131891   \n",
       "3138        -0.456577    -0.719782            0.347512       -0.481704   \n",
       "3139        -0.196562     0.424154           -0.354671       -0.258570   \n",
       "\n",
       "      Perihelion Distance  Perihelion Arg  Aphelion Dist  Perihelion Time  \\\n",
       "0                1.143730        1.152731       2.351752         0.946734   \n",
       "1               -2.229219        0.477486       0.441676         0.127308   \n",
       "2                0.971346        0.064993      -0.473211         0.149383   \n",
       "3                1.082984        0.224251      -0.367133        -0.317064   \n",
       "4                1.070329        0.657114       0.239467        -0.325631   \n",
       "...                   ...             ...            ...              ...   \n",
       "3135             0.795249        1.079394      -0.548803        -0.847998   \n",
       "3136             0.723425       -0.020427       0.809551         0.304512   \n",
       "3137            -1.565169        0.063400       0.649923         0.176515   \n",
       "3138             0.866733        0.808539      -0.723510        -2.479616   \n",
       "3139             1.545245       -0.431437      -0.609654         0.355502   \n",
       "\n",
       "      Mean Anomaly  Mean Motion  \n",
       "0         0.348341    -1.490776  \n",
       "1        -0.786372    -0.301437  \n",
       "2        -0.865961    -0.197476  \n",
       "3         1.505526    -0.334279  \n",
       "4        -0.902986    -0.789696  \n",
       "...            ...          ...  \n",
       "3135     -1.291418    -0.059801  \n",
       "3136      1.609667    -1.032477  \n",
       "3137     -1.168076    -0.619728  \n",
       "3138     -0.553242     0.144948  \n",
       "3139      1.271203    -0.207751  \n",
       "\n",
       "[3140 rows x 37 columns]"
      ]
     },
     "execution_count": 33,
     "metadata": {},
     "output_type": "execute_result"
    }
   ],
   "source": [
    "### create pandas from numpy to label data and featurs \n",
    "X_traina =  pd.DataFrame(data= X_train, index= range(X_train.shape[0]),columns =feature_names)\n",
    "X_traina"
   ]
  },
  {
   "cell_type": "code",
   "execution_count": 34,
   "metadata": {},
   "outputs": [
    {
     "data": {
      "text/html": [
       "<!-- http://127.0.0.1:7652/2377503481080/ -->\n",
       "<iframe src=\"http://127.0.0.1:7652/2377503481080/\" width=100% height=800 frameBorder=\"0\"></iframe>"
      ]
     },
     "metadata": {},
     "output_type": "display_data"
    }
   ],
   "source": [
    "# import the LimeTabular Explainer to explain which properties leads to the classfication\n",
    "from interpret.blackbox import LimeTabular\n",
    "from interpret import show\n",
    "\n",
    "# provide the prediction funciotn (model.predict_proba) and the trainingsdata to the explainer\n",
    "lime = LimeTabular(predict_fn=model.predict_proba, data=X_traina, random_state=1)\n",
    "\n",
    "\n",
    "#create the explanation in a graph for the first 30 instances of the test dataset \n",
    "lime_local = lime.explain_local(X_test[:30], y_test[:30], name='LIME')\n",
    "\n",
    "show(lime_local)\n"
   ]
  },
  {
   "cell_type": "markdown",
   "metadata": {},
   "source": [
    "## Overall analyse with MorrisSensitivity"
   ]
  },
  {
   "cell_type": "code",
   "execution_count": 35,
   "metadata": {},
   "outputs": [
    {
     "data": {
      "text/html": [
       "<!-- http://127.0.0.1:7652/2377585382792/ -->\n",
       "<iframe src=\"http://127.0.0.1:7652/2377585382792/\" width=100% height=800 frameBorder=\"0\"></iframe>"
      ]
     },
     "metadata": {},
     "output_type": "display_data"
    }
   ],
   "source": [
    "from interpret.blackbox import MorrisSensitivity\n",
    "\n",
    "sensitivity = MorrisSensitivity(predict_fn=model.predict_proba, data=X_traina)\n",
    "sensitivity_global = sensitivity.explain_global(name=\"Global Sensitivity\")\n",
    "\n",
    "show(sensitivity_global)\n"
   ]
  },
  {
   "cell_type": "markdown",
   "metadata": {},
   "source": [
    "## Overall analyse with PartialDependence"
   ]
  },
  {
   "cell_type": "code",
   "execution_count": 36,
   "metadata": {},
   "outputs": [
    {
     "data": {
      "text/html": [
       "<!-- http://127.0.0.1:7652/2377602936904/ -->\n",
       "<iframe src=\"http://127.0.0.1:7652/2377602936904/\" width=100% height=800 frameBorder=\"0\"></iframe>"
      ]
     },
     "metadata": {},
     "output_type": "display_data"
    }
   ],
   "source": [
    "from interpret.blackbox import PartialDependence\n",
    "\n",
    "pdp = PartialDependence(predict_fn=model.predict_proba, data=X_traina)\n",
    "pdp_global = pdp.explain_global(name='Partial Dependence')\n",
    "\n",
    "show(pdp_global)"
   ]
  },
  {
   "cell_type": "markdown",
   "metadata": {},
   "source": [
    "## Summary"
   ]
  },
  {
   "cell_type": "markdown",
   "metadata": {},
   "source": []
  },
  {
   "cell_type": "code",
   "execution_count": 37,
   "metadata": {},
   "outputs": [
    {
     "data": {
      "text/html": [
       "<!-- http://127.0.0.1:7652/2377585263816/ -->\n",
       "<a href=\"http://127.0.0.1:7652/2377585263816/\" target=\"_new\">Open in new window</a><iframe src=\"http://127.0.0.1:7652/2377585263816/\" width=100% height=800 frameBorder=\"0\"></iframe>"
      ]
     },
     "metadata": {},
     "output_type": "display_data"
    }
   ],
   "source": [
    "show([lime_local, sensitivity_global, pdp_global])"
   ]
  },
  {
   "cell_type": "markdown",
   "metadata": {},
   "source": [
    "## Alternative Approch Glassbox model with the Explainable Boosting Machine (EBM)"
   ]
  },
  {
   "cell_type": "code",
   "execution_count": null,
   "metadata": {},
   "outputs": [],
   "source": []
  },
  {
   "cell_type": "code",
   "execution_count": 38,
   "metadata": {},
   "outputs": [
    {
     "data": {
      "text/plain": [
       "ExplainableBoostingClassifier(binning_strategy='quantile', data_n_episodes=2000,\n",
       "                              early_stopping_run_length=50,\n",
       "                              early_stopping_tolerance=1e-05,\n",
       "                              feature_names=['Neo Reference ID', 'Name',\n",
       "                                             'Absolute Magnitude',\n",
       "                                             'Est Dia in KM(min)',\n",
       "                                             'Est Dia in KM(max)',\n",
       "                                             'Est Dia in M(min)',\n",
       "                                             'Est Dia in M(max)',\n",
       "                                             'Est Dia in Miles(min)',\n",
       "                                             'Est Dia in Miles(max)',\n",
       "                                             'Est Dia in Feet(min)',\n",
       "                                             'Est Dia in Feet(max)',...\n",
       "                                             'continuous', 'continuous',\n",
       "                                             'continuous', 'continuous',\n",
       "                                             'continuous', 'continuous',\n",
       "                                             'continuous', 'continuous',\n",
       "                                             'continuous', 'continuous', ...],\n",
       "                              holdout_size=0.15, holdout_split=0.15,\n",
       "                              interactions=0, learning_rate=0.01,\n",
       "                              main_attr='all', max_n_bins=255,\n",
       "                              max_tree_splits=2, min_cases_for_splits=2,\n",
       "                              n_estimators=16, n_jobs=-2, random_state=1,\n",
       "                              schema=None, scoring=None,\n",
       "                              training_step_episodes=1)"
      ]
     },
     "execution_count": 38,
     "metadata": {},
     "output_type": "execute_result"
    }
   ],
   "source": [
    "## Glass\n",
    "from interpret.glassbox import ExplainableBoostingClassifier, LogisticRegression, ClassificationTree, DecisionListClassifier\n",
    "\n",
    "ebm = ExplainableBoostingClassifier(random_state=1)\n",
    "ebm.fit(X_traina, y_train)   #Works on dataframes and numpy arrays"
   ]
  },
  {
   "cell_type": "code",
   "execution_count": 39,
   "metadata": {},
   "outputs": [
    {
     "data": {
      "text/html": [
       "<!-- http://127.0.0.1:7652/2377605487528/ -->\n",
       "<iframe src=\"http://127.0.0.1:7652/2377605487528/\" width=100% height=800 frameBorder=\"0\"></iframe>"
      ]
     },
     "metadata": {},
     "output_type": "display_data"
    }
   ],
   "source": [
    "ebm_global = ebm.explain_global(name='EBM')\n",
    "show(ebm_global)"
   ]
  },
  {
   "cell_type": "code",
   "execution_count": 40,
   "metadata": {},
   "outputs": [
    {
     "data": {
      "text/html": [
       "<!-- http://127.0.0.1:7652/2377585538104/ -->\n",
       "<iframe src=\"http://127.0.0.1:7652/2377585538104/\" width=100% height=800 frameBorder=\"0\"></iframe>"
      ]
     },
     "metadata": {},
     "output_type": "display_data"
    }
   ],
   "source": [
    "from interpret import show\n",
    "from interpret.perf import ROC\n",
    "\n",
    "performance = ROC(model.predict_proba).explain_perf(X_test, y_test, name='Blackbox')\n",
    "show(performance)"
   ]
  },
  {
   "cell_type": "markdown",
   "metadata": {},
   "source": [
    "## Alternative Approch Glassbox model with the Explainable Boosting Machine (EBM)"
   ]
  },
  {
   "cell_type": "code",
   "execution_count": 41,
   "metadata": {},
   "outputs": [
    {
     "data": {
      "text/plain": [
       "ExplainableBoostingClassifier(binning_strategy='quantile', data_n_episodes=2000,\n",
       "                              early_stopping_run_length=50,\n",
       "                              early_stopping_tolerance=1e-05,\n",
       "                              feature_names=['Neo Reference ID', 'Name',\n",
       "                                             'Absolute Magnitude',\n",
       "                                             'Est Dia in KM(min)',\n",
       "                                             'Est Dia in KM(max)',\n",
       "                                             'Est Dia in M(min)',\n",
       "                                             'Est Dia in M(max)',\n",
       "                                             'Est Dia in Miles(min)',\n",
       "                                             'Est Dia in Miles(max)',\n",
       "                                             'Est Dia in Feet(min)',\n",
       "                                             'Est Dia in Feet(max)',...\n",
       "                                             'continuous', 'continuous',\n",
       "                                             'continuous', 'continuous',\n",
       "                                             'continuous', 'continuous',\n",
       "                                             'continuous', 'continuous',\n",
       "                                             'continuous', 'continuous', ...],\n",
       "                              holdout_size=0.15, holdout_split=0.15,\n",
       "                              interactions=0, learning_rate=0.01,\n",
       "                              main_attr='all', max_n_bins=255,\n",
       "                              max_tree_splits=2, min_cases_for_splits=2,\n",
       "                              n_estimators=16, n_jobs=-2, random_state=1,\n",
       "                              schema=None, scoring=None,\n",
       "                              training_step_episodes=1)"
      ]
     },
     "execution_count": 41,
     "metadata": {},
     "output_type": "execute_result"
    }
   ],
   "source": [
    "## Glass\n",
    "from interpret.glassbox import ExplainableBoostingClassifier, LogisticRegression, ClassificationTree, DecisionListClassifier\n",
    "\n",
    "ebm = ExplainableBoostingClassifier(random_state=1)\n",
    "ebm.fit(X_traina, y_train)   #Works on dataframes and numpy arrays"
   ]
  },
  {
   "cell_type": "code",
   "execution_count": 42,
   "metadata": {},
   "outputs": [
    {
     "data": {
      "text/html": [
       "<!-- http://127.0.0.1:7652/2377604518576/ -->\n",
       "<iframe src=\"http://127.0.0.1:7652/2377604518576/\" width=100% height=800 frameBorder=\"0\"></iframe>"
      ]
     },
     "metadata": {},
     "output_type": "display_data"
    }
   ],
   "source": [
    "ebm_global = ebm.explain_global(name='EBM')\n",
    "show(ebm_global)"
   ]
  },
  {
   "cell_type": "code",
   "execution_count": 43,
   "metadata": {},
   "outputs": [
    {
     "data": {
      "text/html": [
       "<!-- http://127.0.0.1:7652/2377581516840/ -->\n",
       "<iframe src=\"http://127.0.0.1:7652/2377581516840/\" width=100% height=800 frameBorder=\"0\"></iframe>"
      ]
     },
     "metadata": {},
     "output_type": "display_data"
    }
   ],
   "source": [
    "ebm_local = ebm.explain_local(X_test[:5], y_test[:5], name='EBM')\n",
    "show(ebm_local)"
   ]
  }
 ],
 "metadata": {
  "kernelspec": {
   "display_name": "Python 3",
   "language": "python",
   "name": "python3"
  },
  "language_info": {
   "codemirror_mode": {
    "name": "ipython",
    "version": 3
   },
   "file_extension": ".py",
   "mimetype": "text/x-python",
   "name": "python",
   "nbconvert_exporter": "python",
   "pygments_lexer": "ipython3",
   "version": "3.6.10"
  }
 },
 "nbformat": 4,
 "nbformat_minor": 2
}
